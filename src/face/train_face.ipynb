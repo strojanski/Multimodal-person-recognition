{
 "cells": [
  {
   "cell_type": "code",
   "execution_count": 4,
   "metadata": {},
   "outputs": [],
   "source": [
    "import os \n",
    "# Example image paths and labels\n",
    "image_paths_train, image_paths_test = [], []\n",
    "labels_train, labels_test = [], []\n",
    "path = \"../../data/combined_dataset\"\n",
    "train_percentage = .5\n",
    "    \n",
    "for sub in os.listdir(path):\n",
    "    imgs = os.listdir(f\"{path}/{sub}/face\")\n",
    "    train_ix = int(len(imgs) * train_percentage)\n",
    "    \n",
    "    train_imgs = imgs[:train_ix]\n",
    "    test_imgs = imgs[train_ix:]\n",
    "    \n",
    "    for img in train_imgs:\n",
    "        image_paths_train.append(f\"{path}/{sub}/face/{img}\")\n",
    "        labels_train.append(int(sub))\n",
    "        \n",
    "    for img in test_imgs:\n",
    "        image_paths_test.append(f\"{path}/{sub}/face/{img}\")\n",
    "        labels_test.append(int(sub))"
   ]
  },
  {
   "cell_type": "code",
   "execution_count": 5,
   "metadata": {},
   "outputs": [
    {
     "data": {
      "text/plain": [
       "(5928, 6083, 5928, 6083)"
      ]
     },
     "execution_count": 5,
     "metadata": {},
     "output_type": "execute_result"
    }
   ],
   "source": [
    "len(image_paths_train), len(image_paths_test), len(labels_train), len(labels_test)"
   ]
  },
  {
   "cell_type": "code",
   "execution_count": 6,
   "metadata": {},
   "outputs": [
    {
     "ename": "ModuleNotFoundError",
     "evalue": "No module named 'facenet_pytorch'",
     "output_type": "error",
     "traceback": [
      "\u001b[1;31m---------------------------------------------------------------------------\u001b[0m",
      "\u001b[1;31mModuleNotFoundError\u001b[0m                       Traceback (most recent call last)",
      "Cell \u001b[1;32mIn[6], line 7\u001b[0m\n\u001b[0;32m      5\u001b[0m \u001b[38;5;28;01mfrom\u001b[39;00m \u001b[38;5;21;01mtorchvision\u001b[39;00m\u001b[38;5;21;01m.\u001b[39;00m\u001b[38;5;21;01mtransforms\u001b[39;00m \u001b[38;5;28;01mimport\u001b[39;00m Compose, Resize, Normalize, ToTensor\n\u001b[0;32m      6\u001b[0m \u001b[38;5;28;01mfrom\u001b[39;00m \u001b[38;5;21;01mtorch\u001b[39;00m\u001b[38;5;21;01m.\u001b[39;00m\u001b[38;5;21;01mutils\u001b[39;00m\u001b[38;5;21;01m.\u001b[39;00m\u001b[38;5;21;01mdata\u001b[39;00m \u001b[38;5;28;01mimport\u001b[39;00m Dataset\n\u001b[1;32m----> 7\u001b[0m \u001b[38;5;28;01mfrom\u001b[39;00m \u001b[38;5;21;01mfacenet_pytorch\u001b[39;00m \u001b[38;5;28;01mimport\u001b[39;00m mtcnn\n\u001b[0;32m      9\u001b[0m \u001b[38;5;66;03m# Load the pretrained ViT model for image classification\u001b[39;00m\n\u001b[0;32m     10\u001b[0m model_name \u001b[38;5;241m=\u001b[39m \u001b[38;5;124m\"\u001b[39m\u001b[38;5;124mgoogle/vit-base-patch16-224-in21k\u001b[39m\u001b[38;5;124m\"\u001b[39m\n",
      "\u001b[1;31mModuleNotFoundError\u001b[0m: No module named 'facenet_pytorch'"
     ]
    }
   ],
   "source": [
    "from transformers import ViTModel, ViTForImageClassification, ViTImageProcessor, Trainer, TrainingArguments\n",
    "from datasets import load_dataset\n",
    "from PIL import Image\n",
    "import torch\n",
    "from torchvision.transforms import Compose, Resize, Normalize, ToTensor\n",
    "from torch.utils.data import Dataset\n",
    "from facenet_pytorch import mtcnn\n",
    "\n",
    "# Load the pretrained ViT model for image classification\n",
    "model_name = \"google/vit-base-patch16-224-in21k\"\n",
    "model_name = \"facebook/dino-vits16\"\n",
    "model = ViTForImageClassification.from_pretrained(model_name, num_labels=500)\n",
    "\n",
    "# Load the feature extractor\n",
    "processor = ViTImageProcessor.from_pretrained(model_name)\n",
    "\n",
    "# Define custom dataset\n",
    "class ImageDataset(Dataset):\n",
    "    def __init__(self, image_paths, labels, processor):\n",
    "        self.image_paths = image_paths\n",
    "        self.labels = labels\n",
    "        self.processor = processor\n",
    "\n",
    "    def __len__(self):\n",
    "        return len(self.image_paths)\n",
    "\n",
    "    def __getitem__(self, idx):\n",
    "        # Load and preprocess the image\n",
    "        image = Image.open(self.image_paths[idx]).convert(\"RGB\")\n",
    "        image = mtcnn(image)\n",
    "        inputs = self.processor(images=image, return_tensors=\"pt\")\n",
    "        label = self.labels[idx]\n",
    "        return {\n",
    "            \"pixel_values\": inputs[\"pixel_values\"].squeeze(0),\n",
    "            \"labels\": torch.tensor(label, dtype=torch.long),\n",
    "        }\n",
    "\n",
    "\n",
    "# Create dataset\n",
    "train_dataset = ImageDataset(image_paths_train, labels_train, processor)\n",
    "eval_dataset = ImageDataset(image_paths_test, labels_test, processor)\n",
    "\n",
    "# Define training arguments\n",
    "training_args = TrainingArguments(\n",
    "    output_dir=\"test_trainer\",\n",
    "    evaluation_strategy=\"epoch\",\n",
    "    save_strategy=\"epoch\",\n",
    "    learning_rate=1e-3,\n",
    "    per_device_train_batch_size=4,\n",
    "    num_train_epochs=3,\n",
    "    weight_decay=0.01,\n",
    "    logging_dir=\"./logs\",\n",
    "    logging_steps=10,\n",
    "    save_total_limit=2,\n",
    "    load_best_model_at_end=True,\n",
    "    push_to_hub=False,\n",
    ")\n",
    "\n",
    "# Define Trainer\n",
    "trainer = Trainer(\n",
    "    model=model,\n",
    "    args=training_args,\n",
    "    train_dataset=train_dataset,\n",
    "    eval_dataset=eval_dataset,\n",
    "    tokenizer=processor,  # Use processor for feature extraction\n",
    ")\n",
    "\n",
    "# Train the model\n",
    "trainer.train()\n",
    "\n",
    "# Save the fine-tuned model\n",
    "model.save_pretrained(\"./fine_tuned_vit\")\n",
    "processor.save_pretrained(\"./fine_tuned_vit\")\n"
   ]
  },
  {
   "cell_type": "code",
   "execution_count": null,
   "metadata": {},
   "outputs": [
    {
     "name": "stderr",
     "output_type": "stream",
     "text": [
      "100%|██████████| 761/761 [01:04<00:00, 11.88it/s]"
     ]
    },
    {
     "name": "stdout",
     "output_type": "stream",
     "text": [
      "Accuracy: 0.0026302811112937697\n"
     ]
    },
    {
     "name": "stderr",
     "output_type": "stream",
     "text": [
      "\n"
     ]
    }
   ],
   "source": [
    "import evaluate\n",
    "\n",
    "# Load the accuracy metric from the evaluate library\n",
    "metric = evaluate.load(\"accuracy\")\n",
    "\n",
    "# Define the compute_metrics function\n",
    "def compute_metrics(eval_pred):\n",
    "    logits, labels = eval_pred\n",
    "    predictions = logits.argmax(axis=-1)  # Get the predicted class\n",
    "    return metric.compute(predictions=predictions, references=labels)\n",
    "\n",
    "# Evaluate the model\n",
    "results = trainer.evaluate()\n",
    "\n",
    "# Print the accuracy\n",
    "print(\"Accuracy:\", results[\"eval_accuracy\"])\n"
   ]
  }
 ],
 "metadata": {
  "kernelspec": {
   "display_name": ".venv",
   "language": "python",
   "name": "python3"
  },
  "language_info": {
   "codemirror_mode": {
    "name": "ipython",
    "version": 3
   },
   "file_extension": ".py",
   "mimetype": "text/x-python",
   "name": "python",
   "nbconvert_exporter": "python",
   "pygments_lexer": "ipython3",
   "version": "3.8.19"
  }
 },
 "nbformat": 4,
 "nbformat_minor": 2
}
