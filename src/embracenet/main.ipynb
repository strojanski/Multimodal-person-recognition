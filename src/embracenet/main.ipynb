{
 "cells": [
  {
   "cell_type": "code",
   "execution_count": 1,
   "metadata": {},
   "outputs": [],
   "source": [
    "import os\n",
    "import time\n",
    "import traceback\n",
    "import numpy as np\n",
    "import pandas as pd\n",
    "from dataloader import TrimodalLoader\n",
    "from model import TrimodalModel\n",
    "import torch\n"
   ]
  },
  {
   "cell_type": "markdown",
   "metadata": {},
   "source": [
    "## Process\n",
    "1. Load all data\n",
    "2. Sub or oversample so that all dataset samples align\n",
    "3. Form inputs of shape [mod1_x, mod2_x, mod3_x], [y]\n",
    "4. Train embracenet"
   ]
  },
  {
   "cell_type": "code",
   "execution_count": 2,
   "metadata": {},
   "outputs": [],
   "source": [
    "def load_iris():\n",
    "    \"\"\"Loads iris features into a dataframe\n",
    "\n",
    "    Returns:\n",
    "        pd.DataFrame: dataframe containing iris features\n",
    "        python list of labels    \n",
    "    \"\"\"\n",
    "    path = \"../iris/features\"\n",
    "    \n",
    "    embs = os.listdir(path)\n",
    "    \n",
    "    labels, embeddings = [], []\n",
    "    \n",
    "    for emb in embs:\n",
    "        \n",
    "        label = emb.split(\"_\")[0].replace(\"sub\", \"\")\n",
    "        label = int(label)\n",
    "        \n",
    "        emb = np.load(os.path.join(path, emb))\n",
    "        \n",
    "        labels.append(label)\n",
    "        embeddings.append(emb)\n",
    "        \n",
    "    cols = [f\"iris_{i}\" for i in range(len(embeddings[0]))]\n",
    "    embeddings = pd.DataFrame(embeddings, columns=cols)    \n",
    "    \n",
    "    return embeddings, labels\n",
    "        "
   ]
  },
  {
   "cell_type": "code",
   "execution_count": 3,
   "metadata": {},
   "outputs": [],
   "source": [
    "def load_fingerprint():\n",
    "    \"\"\"Loads fingerprint features into a dataframe\n",
    "\n",
    "    Returns:\n",
    "        pd.DataFrame: dataframe containing iris features\n",
    "        python list of labels    \n",
    "    \"\"\"\n",
    "    path = \"../fingerprint/features\"\n",
    "    \n",
    "    embs = os.listdir(path)\n",
    "    \n",
    "    labels, embeddings = [], []\n",
    "    \n",
    "    for emb in embs:\n",
    "        \n",
    "        label = emb.split(\"_\")[0].replace(\"sub\", \"\")\n",
    "        label = int(label)\n",
    "        \n",
    "        emb = np.load(os.path.join(path, emb))\n",
    "        \n",
    "        labels.append(label)\n",
    "        embeddings.append(emb)\n",
    "        \n",
    "    cols = [f\"fp_{i}\" for i in range(len(embeddings[0]))]\n",
    "    embeddings = pd.DataFrame(embeddings, columns=cols)    \n",
    "    \n",
    "    return embeddings, labels"
   ]
  },
  {
   "cell_type": "code",
   "execution_count": 4,
   "metadata": {},
   "outputs": [],
   "source": [
    "def load_face():\n",
    "    \"\"\"Loads face features into a dataframe\n",
    "\n",
    "    Returns:\n",
    "        pd.DataFrame: dataframe containing iris features\n",
    "        python list of labels    \n",
    "    \"\"\"\n",
    "    path = \"../face/features\"\n",
    "    \n",
    "    embs = os.listdir(path)\n",
    "    \n",
    "    labels, embeddings = [], []\n",
    "    \n",
    "    for emb in embs:\n",
    "        \n",
    "        label = emb.split(\"_\")[0].replace(\"sub\", \"\")\n",
    "        label = int(label)\n",
    "        \n",
    "        emb = np.load(os.path.join(path, emb))\n",
    "        \n",
    "        labels.append(label)\n",
    "        embeddings.append(emb)\n",
    "        \n",
    "    cols = [f\"face_{i}\" for i in range(len(embeddings[0]))]\n",
    "    embeddings = pd.DataFrame(embeddings, columns=cols)    \n",
    "    \n",
    "    return embeddings, labels"
   ]
  },
  {
   "cell_type": "code",
   "execution_count": 5,
   "metadata": {},
   "outputs": [],
   "source": [
    "if len(os.listdir(\"feats\")) == 0:\n",
    "    emb_iris, lab_iris = load_iris()\n",
    "    emb_fp, lab_fp = load_fingerprint()\n",
    "    emb_face, lab_face = load_face()\n",
    "else:\n",
    "    emb_iris = pd.read_csv(\"feats/iris.csv\")\n",
    "    emb_fp = pd.read_csv(\"feats/fingerprint.csv\")\n",
    "    emb_face = pd.read_csv(\"feats/face.csv\")"
   ]
  },
  {
   "cell_type": "code",
   "execution_count": 6,
   "metadata": {},
   "outputs": [],
   "source": [
    "if len(os.listdir(\"feats\")) == 0:\n",
    "\n",
    "    print(len(lab_iris), len(lab_fp), len(lab_face))\n",
    "    emb_iris[\"label\"] = lab_iris\n",
    "    emb_fp[\"label\"] = lab_fp\n",
    "    emb_face[\"label\"] = lab_face\n",
    "\n",
    "    emb_iris.to_csv(\"feats/iris.csv\", index=False)\n",
    "    emb_fp.to_csv(\"feats/fingerprint.csv\", index=False)\n",
    "    emb_face.to_csv(\"feats/face.csv\", index=False)\n",
    "\n",
    "else:\n",
    "    emb_iris = pd.read_csv(\"feats/iris.csv\")    \n",
    "    emb_fp = pd.read_csv(\"feats/fingerprint.csv\")\n",
    "    emb_face = pd.read_csv(\"feats/face.csv\")"
   ]
  },
  {
   "cell_type": "code",
   "execution_count": 7,
   "metadata": {},
   "outputs": [
    {
     "data": {
      "text/plain": [
       "[<matplotlib.lines.Line2D at 0x200c3bc6940>]"
      ]
     },
     "execution_count": 7,
     "metadata": {},
     "output_type": "execute_result"
    },
    {
     "data": {
      "image/png": "[encoded data removed]",
      "text/plain": [
       "<Figure size 640x480 with 1 Axes>"
      ]
     },
     "metadata": {},
     "output_type": "display_data"
    }
   ],
   "source": [
    "import matplotlib.pyplot as plt\n",
    "plt.plot(emb_iris[\"label\"].value_counts().sort_index())\n",
    "plt.plot(emb_fp[\"label\"].value_counts().sort_index())\n",
    "plt.plot(emb_face[\"label\"].value_counts().sort_index()) "
   ]
  },
  {
   "cell_type": "code",
   "execution_count": 8,
   "metadata": {},
   "outputs": [],
   "source": [
    "def get_fusion(df1, df2, df3):\n",
    "    \"\"\"\n",
    "    Concatenates three dataframes into a single dataframe with pairs of embeddings and labels.\n",
    "\n",
    "    Parameters:\n",
    "        df1, df2, df3 (pd.DataFrame): DataFrames containing embeddings and labels.\n",
    "        \n",
    "    Returns:\n",
    "        pd.DataFrame: A concatenated DataFrame with balanced pairs of embeddings and labels.\n",
    "    \"\"\"\n",
    "    final_df1 = pd.DataFrame()\n",
    "    final_df2 = pd.DataFrame()\n",
    "    final_df3 = pd.DataFrame()\n",
    "    \n",
    "    \n",
    "    # Iterate over unique labels\n",
    "    for label in df1['label'].unique():\n",
    "        # Filter each DataFrame for the current label\n",
    "        sub_df1 = df1[df1['label'] == label]\n",
    "        sub_df2 = df2[df2['label'] == label]\n",
    "        sub_df3 = df3[df3['label'] == label]\n",
    "        \n",
    "        # Determine the maximum number of samples across the three DataFrames\n",
    "        num_samples = max(len(sub_df1), len(sub_df2), len(sub_df3))\n",
    "        \n",
    "        # Oversample each subset to match the maximum sample size\n",
    "        sub_df1 = sub_df1.sample(num_samples, replace=True).reset_index(drop=True)\n",
    "        sub_df2 = sub_df2.sample(num_samples, replace=True).reset_index(drop=True)\n",
    "        sub_df3 = sub_df3.sample(num_samples, replace=True).reset_index(drop=True)\n",
    "        \n",
    "        final_df1 = pd.concat([final_df1, sub_df1], axis=0)\n",
    "        final_df2 = pd.concat([final_df2, sub_df2], axis=0)\n",
    "        final_df3 = pd.concat([final_df3, sub_df3], axis=0)\n",
    "        \n",
    "    \n",
    "    return final_df1, final_df2, final_df3\n"
   ]
  },
  {
   "cell_type": "code",
   "execution_count": 9,
   "metadata": {},
   "outputs": [],
   "source": [
    "def remap_labels(emb_iris, emb_face, emb_fp):\n",
    "    mapping = {val: idx for idx, val in enumerate(emb_iris[\"label\"].unique())}\n",
    "    \n",
    "    emb_iris[\"label\"] = emb_iris[\"label\"].map(mapping)\n",
    "    emb_face[\"label\"] = emb_face[\"label\"].map(mapping)\n",
    "    emb_fp[\"label\"] = emb_fp[\"label\"].map(mapping)\n",
    "    \n",
    "    return emb_iris, emb_face, emb_fp"
   ]
  },
  {
   "cell_type": "code",
   "execution_count": 10,
   "metadata": {},
   "outputs": [],
   "source": [
    "if \"iris_sampled.csv\" not in os.listdir(\"feats\"):\n",
    "    emb_iris, emb_face, emb_fp = get_fusion(emb_iris, emb_face, emb_fp)\n",
    "    \n",
    "    emb_iris, emb_face, emb_fp = remap_labels(emb_iris, emb_face, emb_fp)\n",
    "    \n",
    "    emb_iris.to_csv(\"feats/iris_sampled.csv\", index=False)\n",
    "    emb_fp.to_csv(\"feats/fingerprint_sampled.csv\", index=False)\n",
    "    emb_face.to_csv(\"feats/face_sampled.csv\", index=False)\n",
    "\n",
    "else:\n",
    "    emb_iris = pd.read_csv(\"feats/iris_sampled.csv\")\n",
    "    emb_fp = pd.read_csv(\"feats/fingerprint_sampled.csv\")\n",
    "    emb_face = pd.read_csv(\"feats/face_sampled.csv\")"
   ]
  },
  {
   "cell_type": "code",
   "execution_count": 11,
   "metadata": {},
   "outputs": [
    {
     "data": {
      "text/plain": [
       "(12603, 12603, 12603)"
      ]
     },
     "execution_count": 11,
     "metadata": {},
     "output_type": "execute_result"
    }
   ],
   "source": [
    "len(emb_iris), len(emb_face), len(emb_fp)"
   ]
  },
  {
   "cell_type": "code",
   "execution_count": 12,
   "metadata": {},
   "outputs": [],
   "source": [
    "# Prepare dataloader\n",
    "train_subjects_uniq = len(emb_iris[\"label\"].unique()) // 5\n",
    "train_subjects = emb_iris[\"label\"].unique()[:train_subjects_uniq]\n",
    "test_subjects = emb_iris[\"label\"].unique()[train_subjects_uniq:]\n",
    "\n",
    "iris_train = emb_iris[emb_iris[\"label\"].isin(train_subjects)]\n",
    "fp_train = emb_fp[emb_fp[\"label\"].isin(train_subjects)]\n",
    "face_train = emb_face[emb_face[\"label\"].isin(train_subjects)]\n",
    "\n",
    "\n",
    "iris_test = emb_iris[emb_iris[\"label\"].isin(test_subjects)]\n",
    "fp_test = emb_fp[emb_fp[\"label\"].isin(test_subjects)]\n",
    "face_test = emb_face[emb_face[\"label\"].isin(test_subjects)]\n",
    "\n",
    "\n",
    "iris_train_x, iris_train_y = iris_train.drop(\"label\", axis=1), iris_train[\"label\"]\n",
    "fp_train_x, fp_train_y = fp_train.drop(\"label\", axis=1), fp_train[\"label\"]\n",
    "face_train_x, face_train_y = face_train.drop(\"label\", axis=1), face_train[\"label\"]\n",
    "\n",
    "\n",
    "iris_test_x, iris_test_y = iris_test.drop(\"label\", axis=1), iris_test[\"label\"]\n",
    "fp_test_x, fp_test_y = fp_test.drop(\"label\", axis=1), fp_test[\"label\"]\n",
    "face_test_x, face_test_y = face_test.drop(\"label\", axis=1), face_test[\"label\"]"
   ]
  },
  {
   "cell_type": "code",
   "execution_count": 13,
   "metadata": {},
   "outputs": [],
   "source": [
    "iris_train = iris_train.drop(columns=\"label\")"
   ]
  },
  {
   "cell_type": "code",
   "execution_count": 14,
   "metadata": {},
   "outputs": [
    {
     "data": {
      "text/plain": [
       "([0, 0, 0, 0, 0, 0, 0, 0, 0, 0],\n",
       " [0, 0, 0, 0, 0, 0, 0, 0, 0, 0],\n",
       " [0, 0, 0, 0, 0, 0, 0, 0, 0, 0])"
      ]
     },
     "execution_count": 14,
     "metadata": {},
     "output_type": "execute_result"
    }
   ],
   "source": [
    "list(iris_train_y)[:10], list(fp_train_y)[:10], list(face_train_y)[:10]"
   ]
  },
  {
   "cell_type": "code",
   "execution_count": 15,
   "metadata": {},
   "outputs": [
    {
     "data": {
      "text/plain": [
       "(2638, 2638, 2638)"
      ]
     },
     "execution_count": 15,
     "metadata": {},
     "output_type": "execute_result"
    }
   ],
   "source": [
    "len(iris_train_y), len(fp_train_y), len(face_train_y)"
   ]
  },
  {
   "cell_type": "code",
   "execution_count": 16,
   "metadata": {},
   "outputs": [
    {
     "data": {
      "text/plain": [
       "True"
      ]
     },
     "execution_count": 16,
     "metadata": {},
     "output_type": "execute_result"
    }
   ],
   "source": [
    "list(iris_train_y) == list(fp_train_y) == list(face_train_y)"
   ]
  },
  {
   "cell_type": "code",
   "execution_count": 17,
   "metadata": {},
   "outputs": [
    {
     "data": {
      "text/plain": [
       "True"
      ]
     },
     "execution_count": 17,
     "metadata": {},
     "output_type": "execute_result"
    }
   ],
   "source": [
    "list(iris_test_y) == list(fp_test_y) == list(face_test_y)"
   ]
  },
  {
   "cell_type": "code",
   "execution_count": 18,
   "metadata": {},
   "outputs": [],
   "source": [
    "# We only need one set of labels\n",
    "y = iris_train_y"
   ]
  },
  {
   "cell_type": "code",
   "execution_count": 19,
   "metadata": {},
   "outputs": [],
   "source": [
    "dataloader = TrimodalLoader(\n",
    "    torch.tensor(iris_train_x.values, dtype=torch.float32), \n",
    "    torch.tensor(fp_train_x.values, dtype=torch.float32), \n",
    "    torch.tensor(face_train_x.values, dtype=torch.float32), \n",
    "    torch.tensor(list(y), dtype=torch.long))\n",
    "\n",
    "test_loader = TrimodalLoader(\n",
    "    torch.tensor(iris_test_x.values, dtype=torch.float32), \n",
    "    torch.tensor(fp_test_x.values, dtype=torch.float32), \n",
    "    torch.tensor(face_test_x.values, dtype=torch.float32), \n",
    "    torch.tensor(list(y), dtype=torch.long))"
   ]
  },
  {
   "cell_type": "code",
   "execution_count": 20,
   "metadata": {},
   "outputs": [
    {
     "data": {
      "text/plain": [
       "0      0\n",
       "1      0\n",
       "2      0\n",
       "3      0\n",
       "4      0\n",
       "      ..\n",
       "24    99\n",
       "25    99\n",
       "26    99\n",
       "27    99\n",
       "28    99\n",
       "Name: label, Length: 2638, dtype: int64"
      ]
     },
     "execution_count": 20,
     "metadata": {},
     "output_type": "execute_result"
    }
   ],
   "source": [
    "iris_train_y"
   ]
  },
  {
   "cell_type": "code",
   "execution_count": 21,
   "metadata": {},
   "outputs": [
    {
     "data": {
      "text/plain": [
       "(1408,)"
      ]
     },
     "execution_count": 21,
     "metadata": {},
     "output_type": "execute_result"
    }
   ],
   "source": [
    "iris_train.iloc[0].shape"
   ]
  },
  {
   "cell_type": "code",
   "execution_count": 22,
   "metadata": {},
   "outputs": [],
   "source": [
    "# initialize\n",
    "batch_size = 32\n",
    "device = \"cpu\"\n",
    "train_path = \"tmp/train/\"\n",
    "max_steps = 100\n",
    "log_freq = 2\n",
    "summary_freq = 5\n",
    "save_freq = 5\n",
    "sleep_ratio = 0\n",
    "restore_path = None\n",
    "global_step = 0\n",
    "os.environ[\"CUDA_VISIBLE_DEVICES\"] = device\n",
    "os.makedirs(train_path, exist_ok=True)"
   ]
  },
  {
   "cell_type": "code",
   "execution_count": 23,
   "metadata": {},
   "outputs": [
    {
     "name": "stdout",
     "output_type": "stream",
     "text": [
      "[1408, 1408, 512]\n",
      "[1408, 1408, 512]\n",
      "N classes:  100\n",
      "Created docking_0 with input size 1408 and output size 256\n",
      "Parameter containing:\n",
      "tensor([[ 0.0127, -0.0172,  0.0038,  ...,  0.0195, -0.0023, -0.0054],\n",
      "        [ 0.0015, -0.0150, -0.0242,  ..., -0.0090, -0.0196, -0.0211],\n",
      "        [ 0.0204,  0.0256,  0.0140,  ...,  0.0106,  0.0137, -0.0070],\n",
      "        ...,\n",
      "        [-0.0012, -0.0057, -0.0026,  ..., -0.0138,  0.0250,  0.0148],\n",
      "        [ 0.0191,  0.0124, -0.0153,  ...,  0.0072,  0.0232,  0.0230],\n",
      "        [-0.0007, -0.0239,  0.0049,  ..., -0.0045, -0.0118,  0.0160]],\n",
      "       requires_grad=True)\n",
      "Created docking_1 with input size 1408 and output size 256\n",
      "Parameter containing:\n",
      "tensor([[-0.0103,  0.0128, -0.0072,  ...,  0.0095, -0.0246, -0.0146],\n",
      "        [-0.0058, -0.0088,  0.0211,  ...,  0.0077, -0.0063,  0.0106],\n",
      "        [ 0.0111, -0.0249, -0.0199,  ..., -0.0236, -0.0032, -0.0049],\n",
      "        ...,\n",
      "        [-0.0170, -0.0254, -0.0143,  ..., -0.0241,  0.0160,  0.0132],\n",
      "        [-0.0030,  0.0065,  0.0228,  ...,  0.0255, -0.0181,  0.0259],\n",
      "        [ 0.0026,  0.0232, -0.0244,  ..., -0.0103,  0.0100,  0.0091]],\n",
      "       requires_grad=True)\n",
      "Created docking_2 with input size 512 and output size 256\n",
      "Parameter containing:\n",
      "tensor([[ 0.0379, -0.0297,  0.0214,  ..., -0.0141,  0.0236, -0.0051],\n",
      "        [-0.0005,  0.0058,  0.0374,  ..., -0.0214, -0.0248, -0.0234],\n",
      "        [ 0.0329, -0.0350,  0.0023,  ...,  0.0283, -0.0354,  0.0063],\n",
      "        ...,\n",
      "        [ 0.0188, -0.0146,  0.0054,  ...,  0.0246, -0.0368, -0.0298],\n",
      "        [ 0.0362,  0.0281, -0.0441,  ...,  0.0284,  0.0227, -0.0040],\n",
      "        [-0.0418,  0.0426,  0.0244,  ..., -0.0327,  0.0325,  0.0299]],\n",
      "       requires_grad=True)\n"
     ]
    }
   ],
   "source": [
    "# Prepare model\n",
    "model = TrimodalModel()\n",
    "input_size_list = [iris_train.iloc[0].shape[0], fp_train_x.iloc[0].shape[0], face_train_x.iloc[0].shape[0]]\n",
    "print(input_size_list)\n",
    "\n",
    "print(input_size_list)\n",
    "n_classes = iris_train_y.nunique()\n",
    "print(\"N classes: \", n_classes)\n",
    "model.prepare(is_training=True, input_size_list=input_size_list, global_step=global_step, n_classes=n_classes)"
   ]
  },
  {
   "cell_type": "code",
   "execution_count": 24,
   "metadata": {},
   "outputs": [],
   "source": [
    "# model > restore\n",
    "if restore_path is not None:\n",
    "    model.restore(ckpt_path=restore_path)\n",
    "    print(\"restored the model\")\n",
    "\n",
    "# model > summary\n",
    "summary_path = os.path.join(train_path, \"summary\")"
   ]
  },
  {
   "cell_type": "code",
   "execution_count": 25,
   "metadata": {},
   "outputs": [
    {
     "data": {
      "text/plain": [
       "((1408,), (1408,), (512,))"
      ]
     },
     "execution_count": 25,
     "metadata": {},
     "output_type": "execute_result"
    }
   ],
   "source": [
    "iris_train.iloc[0].shape, fp_train_x.iloc[0].shape, face_train_x.iloc[0].shape"
   ]
  },
  {
   "cell_type": "code",
   "execution_count": 26,
   "metadata": {},
   "outputs": [
    {
     "name": "stdout",
     "output_type": "stream",
     "text": [
      "begin training\n",
      "tensor([76, 50, 58, 14,  9, 37, 23, 22, 49, 52, 71, 19, 38, 98,  7, 86, 27, 85,\n",
      "        71, 16, 92, 70,  9, 27,  4, 34, 19, 25, 26, 18, 67, 34])\n",
      "tensor(4.5923, grad_fn=<NllLossBackward0>)\n",
      "4.59234094619751\n",
      "tensor([ 3,  3, 40, 62, 60, 54, 46, 72, 73, 42, 78, 69, 89, 75, 75, 61,  6, 90,\n",
      "        17, 77,  0, 88,  8, 90, 41, 23, 29, 29, 82,  8, 14, 75])\n",
      "tensor(4.7289, grad_fn=<NllLossBackward0>)\n",
      "4.7289137840271\n",
      "step 2, loss 4.728914 (0.014 sec/batch)\n",
      "tensor([28, 47, 83, 61, 26, 49, 48, 68, 11, 65,  0, 29, 41, 37, 88, 52, 18, 31,\n",
      "        28, 31, 68, 85, 55, 69, 99, 69, 50, 43, 75, 91, 64, 58])\n",
      "tensor(4.5261, grad_fn=<NllLossBackward0>)\n",
      "4.5261383056640625\n",
      "tensor([29, 16, 32,  7, 98,  9,  6,  7, 69, 64, 12, 84, 69, 71, 84, 50, 63, 45,\n",
      "        30, 53, 29, 41, 29, 93, 63,  2, 16, 85,  4, 12, 41, 82])\n",
      "tensor(4.4114, grad_fn=<NllLossBackward0>)\n",
      "4.411376953125\n",
      "step 4, loss 4.411377 (0.010 sec/batch)\n",
      "tensor([10, 76, 60, 71, 61, 52, 87, 13, 12,  6, 97, 31, 93, 99, 36, 34,  3, 32,\n",
      "        34, 21, 35, 73, 85,  5, 72, 82, 64, 20,  0, 75, 82, 71])\n",
      "tensor(4.4370, grad_fn=<NllLossBackward0>)\n",
      "4.436982154846191\n",
      "saved a model checkpoint at step 5\n",
      "tensor([21, 99, 55, 86, 90, 86, 47, 25, 35, 70, 45, 35, 34, 13, 79, 81, 82, 97,\n",
      "        29,  8, 54, 44, 40, 54, 44, 65, 53,  5, 54, 83,  3, 64])\n",
      "tensor(4.2835, grad_fn=<NllLossBackward0>)\n",
      "4.283497333526611\n",
      "step 6, loss 4.283497 (0.009 sec/batch)\n",
      "tensor([50, 35, 22, 85, 97, 91,  3,  1, 37, 68, 35, 94, 93, 62, 47, 38, 86, 34,\n",
      "         7, 71, 95, 37, 25, 95, 73, 72, 61, 31, 86, 38, 25, 31])\n",
      "tensor(4.3702, grad_fn=<NllLossBackward0>)\n",
      "4.370166301727295\n",
      "tensor([ 1, 63, 94, 75, 43, 27, 20, 87, 56, 14, 44, 73, 89, 82, 46, 81, 26, 98,\n",
      "        41, 12, 78, 19, 75, 28, 63, 47, 14, 99, 51, 26, 18, 54])\n",
      "tensor(4.2390, grad_fn=<NllLossBackward0>)\n",
      "4.238972187042236\n",
      "step 8, loss 4.238972 (0.010 sec/batch)\n",
      "tensor([43, 70, 61, 24,  2,  7, 56, 75, 74, 43, 49, 93, 75, 42, 69,  8, 50, 45,\n",
      "         0, 57,  2, 76, 71, 40, 58, 65, 44, 33, 94, 55, 39, 56])\n",
      "tensor(4.2099, grad_fn=<NllLossBackward0>)\n",
      "4.2098541259765625\n",
      "tensor([75, 13, 61, 69,  8, 29,  3, 64, 90, 87, 69,  5, 32,  2, 97,  2, 97, 82,\n",
      "        15, 87, 26, 74,  6, 11, 36, 37, 10, 13, 16,  5, 49, 55])\n",
      "tensor(4.2664, grad_fn=<NllLossBackward0>)\n",
      "4.2664103507995605\n",
      "step 10, loss 4.266410 (0.011 sec/batch)\n",
      "saved a model checkpoint at step 10\n",
      "tensor([39, 94, 15, 81, 86, 84,  7, 85, 13, 93, 32, 75, 13, 29, 85, 86,  1, 25,\n",
      "        41, 25, 27, 30, 38, 81,  5, 78, 51, 19, 85, 55, 63, 44])\n",
      "tensor(4.0935, grad_fn=<NllLossBackward0>)\n",
      "4.093502521514893\n",
      "tensor([ 1, 61, 21, 57, 67, 34, 71, 56, 72, 57,  2, 75, 53, 69, 59, 11, 34, 45,\n",
      "        35, 97, 37, 95, 75, 17, 63, 95, 29,  0, 42, 47, 60,  5])\n",
      "tensor(4.1282, grad_fn=<NllLossBackward0>)\n",
      "4.128231048583984\n",
      "step 12, loss 4.128231 (0.009 sec/batch)\n",
      "tensor([88, 70, 83, 60, 68, 75, 87, 87, 98, 53,  7, 78, 55, 61, 57, 78,  1,  6,\n",
      "         5, 82, 37,  2, 72, 31, 61, 45, 13, 35, 72,  4, 75, 53])\n",
      "tensor(3.7660, grad_fn=<NllLossBackward0>)\n",
      "3.765974998474121\n",
      "tensor([56, 71, 92, 63, 60, 31,  2, 26, 30, 17, 21, 16, 46,  4, 58,  9, 66, 96,\n",
      "         4, 20, 24, 70, 86, 72, 67, 70, 61, 89, 80,  0, 80, 87])\n",
      "tensor(4.1767, grad_fn=<NllLossBackward0>)\n",
      "4.1766862869262695\n",
      "step 14, loss 4.176686 (0.009 sec/batch)\n",
      "tensor([60, 88, 72, 11, 49, 88, 46, 32, 67,  4,  6,  1, 28, 18, 96, 98, 64, 10,\n",
      "        96, 51, 40, 91, 43,  9,  6, 86, 55, 55, 99, 54, 42, 70])\n",
      "tensor(3.9020, grad_fn=<NllLossBackward0>)\n",
      "3.901954412460327\n",
      "saved a model checkpoint at step 15\n",
      "tensor([42, 72, 44, 55, 58,  4, 76, 48, 72, 81, 14, 72, 63, 60, 23, 27, 58, 98,\n",
      "        23, 82, 35, 11, 34, 16,  7, 84, 76, 61, 55,  1, 31, 11])\n",
      "tensor(3.9448, grad_fn=<NllLossBackward0>)\n",
      "3.9448142051696777\n",
      "step 16, loss 3.944814 (0.010 sec/batch)\n",
      "tensor([11, 65, 66, 51,  2, 91, 21, 98, 69, 82, 21, 54, 72, 22,  5, 56, 84, 31,\n",
      "        95, 77, 67, 31,  2, 56, 28, 99, 99, 87, 89, 54, 14, 38])\n",
      "tensor(3.8496, grad_fn=<NllLossBackward0>)\n",
      "3.8496389389038086\n",
      "tensor([79, 21, 68, 38, 25, 20, 29,  1, 23, 61, 57,  4, 46, 92, 12, 96, 48, 96,\n",
      "        12, 89, 21, 57,  7, 10, 14,  0, 70, 82,  7, 22, 86, 65])\n",
      "tensor(3.7213, grad_fn=<NllLossBackward0>)\n",
      "3.7213244438171387\n",
      "step 18, loss 3.721324 (0.012 sec/batch)\n",
      "tensor([24, 85, 66, 80, 78,  0,  0, 97, 49, 64, 36, 13, 49, 51, 95, 36, 71, 96,\n",
      "        53, 66, 98, 51, 52, 31, 32, 26, 86, 99, 88, 59,  0, 39])\n",
      "tensor(3.6665, grad_fn=<NllLossBackward0>)\n",
      "3.666520118713379\n",
      "tensor([40, 36, 51,  6, 11,  8, 19, 86, 30, 56, 79, 86,  0, 58, 15, 54, 11, 45,\n",
      "        81, 21,  8,  5, 53,  0, 88, 58, 13, 87, 45, 39, 93, 64])\n",
      "tensor(3.7767, grad_fn=<NllLossBackward0>)\n",
      "3.7766754627227783\n",
      "step 20, loss 3.776675 (0.011 sec/batch)\n",
      "saved a model checkpoint at step 20\n",
      "tensor([32, 45, 64, 72, 35, 13, 99, 76, 76,  7, 79, 61,  0, 11, 96, 92, 64, 93,\n",
      "        34, 64, 85, 23, 93, 95, 31, 53, 12, 34, 45, 41,  7, 41])\n",
      "tensor(3.2071, grad_fn=<NllLossBackward0>)\n",
      "3.207139730453491\n",
      "tensor([69, 40, 78, 36, 94, 40, 86, 99, 44, 52, 36, 87, 87, 10, 33, 71, 75, 40,\n",
      "        40, 74, 69, 13, 64, 56, 27, 64, 25, 83, 68, 52, 46,  2])\n",
      "tensor(3.5385, grad_fn=<NllLossBackward0>)\n",
      "3.538468360900879\n",
      "step 22, loss 3.538468 (0.009 sec/batch)\n",
      "tensor([47, 21, 80, 39, 57, 30, 51,  0, 53, 67, 39, 82, 57, 51, 84, 84, 90, 31,\n",
      "        55, 32,  5, 87, 98, 13, 50, 26, 13, 67, 73, 62, 80,  2])\n",
      "tensor(3.6620, grad_fn=<NllLossBackward0>)\n",
      "3.662027359008789\n",
      "tensor([84, 48, 63, 85, 45, 67, 56,  5, 13, 88, 82, 61, 92, 93, 12,  2, 62, 76,\n",
      "        14, 34, 28, 11, 52, 85, 70, 63, 19, 67, 44, 75, 60,  4])\n",
      "tensor(3.3285, grad_fn=<NllLossBackward0>)\n",
      "3.3284711837768555\n",
      "step 24, loss 3.328471 (0.013 sec/batch)\n",
      "tensor([24, 33, 19,  7, 66, 95, 15,  3, 15, 47, 96, 94, 72, 13, 68,  4, 58,  5,\n",
      "        22, 44, 52, 12, 47, 26, 86,  4, 26, 11,  3, 14, 18, 24])\n",
      "tensor(3.5627, grad_fn=<NllLossBackward0>)\n",
      "3.5627036094665527\n",
      "saved a model checkpoint at step 25\n",
      "tensor([20, 80, 17, 64, 32, 94, 27, 69, 63, 18, 60, 16, 55, 45, 89, 34,  4, 94,\n",
      "        92,  6, 22, 25, 83, 58, 71, 16, 48, 39, 44, 49, 41, 62])\n",
      "tensor(3.3072, grad_fn=<NllLossBackward0>)\n",
      "3.3071703910827637\n",
      "step 26, loss 3.307170 (0.010 sec/batch)\n",
      "tensor([29, 28, 34,  8, 10, 45, 43, 86, 92, 88, 97, 95, 51,  6,  4, 42,  1, 24,\n",
      "         0, 31, 27, 53, 51,  2,  2, 93, 20, 13, 18, 53, 64, 78])\n",
      "tensor(3.1462, grad_fn=<NllLossBackward0>)\n",
      "3.146183967590332\n",
      "tensor([42, 84, 39, 55, 60, 36,  5, 36, 37, 11, 85, 34, 48, 95, 93, 70, 27, 31,\n",
      "        65, 93, 79, 24, 43, 59, 58, 58, 47, 34, 36, 16,  3, 24])\n",
      "tensor(3.0409, grad_fn=<NllLossBackward0>)\n",
      "3.0408711433410645\n",
      "step 28, loss 3.040871 (0.011 sec/batch)\n",
      "tensor([58, 79, 62, 60, 57, 96, 13, 79, 42, 25, 83, 85, 17, 13, 20, 10, 97,  1,\n",
      "        69, 10, 90, 27, 21, 42, 21, 60, 96,  3, 25, 87, 66, 78])\n",
      "tensor(3.3735, grad_fn=<NllLossBackward0>)\n",
      "3.373532295227051\n",
      "tensor([20, 89, 96, 52, 93, 62, 15, 34, 58, 65, 48, 91, 42, 39, 35, 96, 59, 65,\n",
      "        68, 99, 84, 15, 76, 66, 58,  4, 99, 29,  4,  2,  9, 55])\n",
      "tensor(3.3379, grad_fn=<NllLossBackward0>)\n",
      "3.3379459381103516\n",
      "step 30, loss 3.337946 (0.010 sec/batch)\n",
      "saved a model checkpoint at step 30\n",
      "tensor([75, 11,  3, 95, 12, 47, 36, 51, 56, 62, 98,  4, 77,  0, 23, 27, 66, 39,\n",
      "        44, 92, 59,  5, 91, 23, 47, 85, 53,  3, 91, 18, 66, 93])\n",
      "tensor(2.7720, grad_fn=<NllLossBackward0>)\n",
      "2.7719883918762207\n",
      "tensor([ 0, 26, 48, 84, 30, 40, 49, 73, 11, 91,  7,  5, 66, 26, 58, 53, 56, 89,\n",
      "        66, 99, 85, 65, 77, 95,  4, 91, 10, 52,  2, 69, 14, 90])\n",
      "tensor(3.1588, grad_fn=<NllLossBackward0>)\n",
      "3.158792495727539\n",
      "step 32, loss 3.158792 (0.012 sec/batch)\n",
      "tensor([98, 94, 10,  7, 28, 33, 83,  3, 81, 13, 94, 60,  6, 12, 42, 31, 36, 49,\n",
      "        89, 50, 41, 80, 73, 20, 96, 58, 25, 11, 49, 20, 70, 64])\n",
      "tensor(2.9933, grad_fn=<NllLossBackward0>)\n",
      "2.993255615234375\n",
      "tensor([16, 98, 25, 89, 91, 60, 44, 75, 86, 86, 91, 41, 17, 20, 79, 44, 75, 42,\n",
      "        45, 58, 24, 98,  3, 45, 45, 75, 91, 19, 95, 67, 84, 96])\n",
      "tensor(2.7748, grad_fn=<NllLossBackward0>)\n",
      "2.7748160362243652\n",
      "step 34, loss 2.774816 (0.012 sec/batch)\n",
      "tensor([47, 84, 16, 36, 24, 87, 87, 38, 20, 35, 57, 73, 80, 53, 57, 62, 54, 47,\n",
      "         3, 27, 41, 15, 25, 51, 88, 74, 50, 63, 56, 51, 47,  7])\n",
      "tensor(3.1098, grad_fn=<NllLossBackward0>)\n",
      "3.109757423400879\n",
      "saved a model checkpoint at step 35\n",
      "tensor([22, 42, 50, 40, 49, 80, 56, 54, 72, 64,  5, 51, 70, 82, 17, 99, 86, 51,\n",
      "        58, 43,  6, 42, 66, 34, 20, 13, 10,  4, 35, 60, 92, 33])\n",
      "tensor(2.6712, grad_fn=<NllLossBackward0>)\n",
      "2.671196699142456\n",
      "step 36, loss 2.671197 (0.012 sec/batch)\n",
      "tensor([39, 98, 65, 69, 11, 60, 78, 27, 57,  2,  5, 99, 77, 48,  4,  6,  7, 20,\n",
      "        72, 50, 58, 41, 99, 32, 29,  3, 59, 13, 20, 50,  1, 94])\n",
      "tensor(2.0903, grad_fn=<NllLossBackward0>)\n",
      "2.09029483795166\n",
      "tensor([67, 10, 99, 14, 19,  4, 63, 72, 80, 12, 32, 34, 79, 34, 26, 55, 95,  5,\n",
      "        69, 46, 53, 67, 53, 67, 79,  3, 31, 91, 71, 98, 11, 44])\n",
      "tensor(2.4420, grad_fn=<NllLossBackward0>)\n",
      "2.4420347213745117\n",
      "step 38, loss 2.442035 (0.015 sec/batch)\n",
      "tensor([60, 62, 90, 67, 63, 80, 67, 63, 89, 79, 14, 43, 36, 88, 60, 88, 85, 22,\n",
      "        81, 31, 39, 50, 29, 91, 60, 23, 56, 96,  6,  9, 76, 91])\n",
      "tensor(2.3893, grad_fn=<NllLossBackward0>)\n",
      "2.3893020153045654\n",
      "tensor([50, 34, 13, 98, 27, 54, 41, 17, 12, 34, 89, 56, 44,  8, 49, 52, 12,  4,\n",
      "        92, 54, 87, 32, 53, 76, 34, 10, 85, 42, 85,  2, 70,  7])\n",
      "tensor(2.1338, grad_fn=<NllLossBackward0>)\n",
      "2.133786201477051\n",
      "step 40, loss 2.133786 (0.010 sec/batch)\n",
      "saved a model checkpoint at step 40\n",
      "tensor([88, 61, 86, 22, 22,  7, 14, 89, 83, 84, 21, 13, 93, 39, 53, 25, 43, 74,\n",
      "        88, 91, 14, 28, 29,  9, 18,  8, 64, 45, 72, 38, 59, 90])\n",
      "tensor(2.5144, grad_fn=<NllLossBackward0>)\n",
      "2.5144245624542236\n",
      "tensor([ 1, 34, 42, 77, 21, 15, 78, 59, 88, 10, 24, 73, 22, 34, 69, 50, 29, 15,\n",
      "        84, 21, 48, 76, 47, 74, 48,  2, 74, 35, 87, 63, 58,  7])\n",
      "tensor(2.1750, grad_fn=<NllLossBackward0>)\n",
      "2.1749765872955322\n",
      "step 42, loss 2.174977 (0.009 sec/batch)\n",
      "tensor([27, 21, 41, 93, 35, 37,  4, 24, 91, 77,  5, 71, 65, 93, 70, 18, 31, 31,\n",
      "        63, 60, 67,  2, 88,  4, 88, 44, 11, 47, 35, 57, 82, 84])\n",
      "tensor(2.3326, grad_fn=<NllLossBackward0>)\n",
      "2.332612991333008\n",
      "tensor([85, 33, 52, 67, 57, 41,  0, 56, 32, 69, 45, 81, 98, 20, 38, 86, 62, 60,\n",
      "        94, 99, 74, 72, 41, 12, 73, 19, 58,  6, 29, 46, 13, 67])\n",
      "tensor(2.2091, grad_fn=<NllLossBackward0>)\n",
      "2.209070920944214\n",
      "step 44, loss 2.209071 (0.007 sec/batch)\n",
      "tensor([50, 41, 56, 61, 72, 70, 24, 14,  4, 46, 65, 85, 25,  7, 99, 95, 87, 62,\n",
      "        42, 15, 69,  4, 91, 41, 93, 79, 99, 76, 23, 11, 97, 95])\n",
      "tensor(1.5058, grad_fn=<NllLossBackward0>)\n",
      "1.5058237314224243\n",
      "saved a model checkpoint at step 45\n",
      "tensor([94, 79, 35, 17, 41, 93, 65, 13, 79, 22, 99, 22,  4, 15, 88, 55, 82, 17,\n",
      "        87,  3,  0, 11, 44, 19, 60, 63,  8, 88, 45, 49, 74,  9])\n",
      "tensor(2.1920, grad_fn=<NllLossBackward0>)\n",
      "2.1920154094696045\n",
      "step 46, loss 2.192015 (0.014 sec/batch)\n",
      "tensor([88, 69, 33, 35, 15, 30, 44,  5, 50, 43, 73, 22, 80, 24, 69, 23, 17, 66,\n",
      "        89, 21, 77, 81, 30, 27, 54, 35, 25, 17, 17, 65, 75, 96])\n",
      "tensor(1.4803, grad_fn=<NllLossBackward0>)\n",
      "1.4803436994552612\n",
      "tensor([50, 76, 18, 57,  7, 76, 86,  2, 95, 15, 32,  1, 16, 91, 95, 35, 86, 78,\n",
      "        54, 49,  5, 89,  0,  8, 47, 85, 42, 31, 48, 89,  8, 47])\n",
      "tensor(1.9939, grad_fn=<NllLossBackward0>)\n",
      "1.9938645362854004\n",
      "step 48, loss 1.993865 (0.011 sec/batch)\n",
      "tensor([36, 34, 80, 75,  0, 80, 55, 55, 34, 47, 44, 76, 93, 44, 75, 88, 19, 57,\n",
      "        74, 34, 48, 25, 63, 59, 62, 55,  8,  9, 33, 59, 93, 93])\n",
      "tensor(2.0228, grad_fn=<NllLossBackward0>)\n",
      "2.022765636444092\n",
      "tensor([66, 73, 35, 89, 96, 76,  2, 17, 45, 84, 43,  9, 57,  6, 84, 13, 75, 76,\n",
      "        55,  7, 52, 11, 65, 14, 24, 10, 29, 20, 79, 20, 79, 65])\n",
      "tensor(1.8591, grad_fn=<NllLossBackward0>)\n",
      "1.8591283559799194\n",
      "step 50, loss 1.859128 (0.009 sec/batch)\n",
      "saved a model checkpoint at step 50\n",
      "tensor([45, 83, 94, 18, 11, 38, 63, 70,  5, 28, 65, 89, 44, 79,  9, 88, 49, 85,\n",
      "        24, 65, 25, 94, 94,  1, 52, 21,  4, 46, 88, 59, 59, 41])\n",
      "tensor(1.9524, grad_fn=<NllLossBackward0>)\n",
      "1.9523528814315796\n",
      "tensor([35, 69, 88, 83, 97, 94, 77, 66,  8, 62, 99, 38, 65, 79, 16,  4, 88, 47,\n",
      "        72, 97, 72, 34, 37, 77, 48, 54, 41, 74, 93, 74, 47, 99])\n",
      "tensor(1.2089, grad_fn=<NllLossBackward0>)\n",
      "1.208884835243225\n",
      "step 52, loss 1.208885 (0.014 sec/batch)\n",
      "tensor([83, 30, 17, 44, 29, 24, 39, 52, 47, 13, 42, 86, 75, 79, 25, 34,  3, 44,\n",
      "        61, 71, 56, 83, 31, 50,  7, 57, 18,  7, 85,  2, 17,  5])\n",
      "tensor(1.6988, grad_fn=<NllLossBackward0>)\n",
      "1.6987621784210205\n",
      "tensor([70, 96, 79, 79, 48,  4, 47, 92, 78, 64, 72, 87, 99, 57, 85, 57, 89, 77,\n",
      "        58, 44, 84, 53, 73, 93, 21, 87, 12,  0, 44, 39, 29, 19])\n",
      "tensor(0.8664, grad_fn=<NllLossBackward0>)\n",
      "0.866362988948822\n",
      "step 54, loss 0.866363 (0.011 sec/batch)\n",
      "tensor([64, 32, 96, 64, 96, 47, 17, 59, 20, 58,  6, 80, 84, 59, 24,  1,  0, 28,\n",
      "        47, 95,  8, 57, 38, 23, 37, 15,  2, 60, 33, 79,  4,  0])\n",
      "tensor(0.9912, grad_fn=<NllLossBackward0>)\n",
      "0.9912251830101013\n",
      "saved a model checkpoint at step 55\n",
      "tensor([ 4, 27, 99,  8, 14, 64, 49, 25, 44, 34, 61, 36, 13, 45, 94,  7, 63,  8,\n",
      "        94, 48, 91, 31, 72, 28, 65, 90, 39, 64, 89, 89, 60, 30])\n",
      "tensor(0.7890, grad_fn=<NllLossBackward0>)\n",
      "0.7890491485595703\n",
      "step 56, loss 0.789049 (0.011 sec/batch)\n",
      "tensor([11, 71, 74, 52, 33, 29, 43, 73, 93, 22, 76, 81, 62, 28,  9, 97, 10, 58,\n",
      "        48, 33, 98, 41, 23, 14,  0, 57, 75, 62, 19, 13, 98, 59])\n",
      "tensor(1.4900, grad_fn=<NllLossBackward0>)\n",
      "1.4899593591690063\n",
      "tensor([81, 71, 47, 38, 50, 23, 47, 79, 57, 54, 99, 75, 26, 94, 95, 86, 72, 26,\n",
      "        41,  2, 87, 10, 10, 49, 71, 95, 71, 23, 78, 26, 63, 79])\n",
      "tensor(1.6721, grad_fn=<NllLossBackward0>)\n",
      "1.672119379043579\n",
      "step 58, loss 1.672119 (0.011 sec/batch)\n",
      "tensor([83, 44, 80, 32, 94, 93, 38, 40, 26, 23, 73, 55, 91, 76, 55, 54, 91, 66,\n",
      "        58, 60, 35, 24,  6, 96,  1, 50, 70, 60, 86, 94, 31, 86])\n",
      "tensor(1.4811, grad_fn=<NllLossBackward0>)\n",
      "1.4810817241668701\n",
      "tensor([ 1, 21,  1, 82, 91, 73, 35, 45, 13, 85, 19, 14, 84, 25,  0, 96,  8, 32,\n",
      "         1, 15, 30, 41,  1, 82, 34, 13, 24,  6, 65, 57, 36, 71])\n",
      "tensor(0.6372, grad_fn=<NllLossBackward0>)\n",
      "0.637161910533905\n",
      "step 60, loss 0.637162 (0.013 sec/batch)\n",
      "saved a model checkpoint at step 60\n",
      "tensor([25, 52, 51, 85, 19, 66, 50, 84, 48, 75, 61, 29,  0, 63, 26, 71, 10,  7,\n",
      "        26, 38,  1, 25, 11, 35, 35, 83, 79,  8, 92, 32, 25,  1])\n",
      "tensor(0.8928, grad_fn=<NllLossBackward0>)\n",
      "0.8927692174911499\n",
      "tensor([63, 82, 15, 99, 61, 22, 87,  0, 19,  8, 11, 93, 54, 98, 33, 75, 33, 10,\n",
      "        60, 60, 78, 34, 92, 30, 91, 99, 68, 42, 43, 34, 16, 77])\n",
      "tensor(0.9520, grad_fn=<NllLossBackward0>)\n",
      "0.9520350098609924\n",
      "step 62, loss 0.952035 (0.011 sec/batch)\n",
      "tensor([82, 72, 67,  8, 63,  9, 94, 33, 23, 60, 41, 67,  3, 57, 63, 88, 72, 71,\n",
      "        86, 17, 41, 79, 45, 33, 80, 79, 71, 71, 60, 73, 55, 86])\n",
      "tensor(0.6497, grad_fn=<NllLossBackward0>)\n",
      "0.6497493386268616\n",
      "tensor([48,  5, 60, 40, 16,  5, 38, 67, 33, 40, 60, 24, 48,  8, 61, 31, 29, 87,\n",
      "        35, 12, 46, 38,  0, 33, 15, 86, 46, 64,  6, 74, 38, 52])\n",
      "tensor(1.2916, grad_fn=<NllLossBackward0>)\n",
      "1.2916215658187866\n",
      "step 64, loss 1.291622 (0.011 sec/batch)\n",
      "tensor([85, 69, 24, 44,  2, 33,  9, 71, 69, 87, 94, 43, 51, 13, 63, 72, 80, 84,\n",
      "         6, 98, 95, 18, 11, 23, 63, 32, 66, 82, 98, 80, 25, 44])\n",
      "tensor(0.8314, grad_fn=<NllLossBackward0>)\n",
      "0.8313959240913391\n",
      "saved a model checkpoint at step 65\n",
      "tensor([59, 56, 56, 59, 11, 66,  5, 51, 21, 93, 57, 61,  0, 82, 32, 98, 86, 20,\n",
      "        35, 58, 52,  4,  4, 42, 52, 20, 80, 98,  4, 61, 31, 11])\n",
      "tensor(0.4163, grad_fn=<NllLossBackward0>)\n",
      "0.41626521944999695\n",
      "step 66, loss 0.416265 (0.011 sec/batch)\n",
      "tensor([69, 34, 33,  3, 72, 97,  3, 19, 85, 98, 69, 58, 45, 25,  0, 46, 85, 99,\n",
      "        78, 15, 30, 24, 33, 80, 86, 51,  3, 24, 32, 88, 21, 77])\n",
      "tensor(0.7336, grad_fn=<NllLossBackward0>)\n",
      "0.7336142659187317\n",
      "tensor([ 6, 50, 72, 62, 37, 60, 68, 88, 66, 38, 33, 71, 52, 93,  5, 76, 68, 31,\n",
      "        96, 29, 64, 29, 73, 97, 56, 57, 45, 97, 56, 34, 97, 36])\n",
      "tensor(0.9489, grad_fn=<NllLossBackward0>)\n",
      "0.9489206075668335\n",
      "step 68, loss 0.948921 (0.013 sec/batch)\n",
      "tensor([57, 86, 34, 22, 43, 51, 67, 57, 34, 82, 33, 72, 18, 79, 65, 25, 95, 17,\n",
      "        78, 72, 12, 38, 94, 46, 46, 37,  6, 93, 63, 72, 15, 42])\n",
      "tensor(0.7681, grad_fn=<NllLossBackward0>)\n",
      "0.7681143283843994\n",
      "tensor([30, 72, 34, 21, 58, 52, 95, 14,  6, 94, 30, 71, 93, 95, 80, 77, 67, 98,\n",
      "        37, 82, 52, 76, 45, 77, 31, 67, 88, 66,  7, 99, 82, 84])\n",
      "tensor(1.0401, grad_fn=<NllLossBackward0>)\n",
      "1.0400539636611938\n",
      "step 70, loss 1.040054 (0.011 sec/batch)\n",
      "saved a model checkpoint at step 70\n",
      "tensor([50, 16, 67, 16, 40, 83, 64, 99,  4, 21, 84, 17, 41, 49, 25, 46, 70, 65,\n",
      "        75, 89, 65, 89, 75, 62, 52, 55, 81, 74, 72, 78, 80, 83])\n",
      "tensor(1.0971, grad_fn=<NllLossBackward0>)\n",
      "1.097102165222168\n",
      "tensor([54, 91, 72, 26, 96, 24, 49, 32,  7,  6, 60, 41, 13, 35, 95, 32, 71, 24,\n",
      "        51, 41, 67, 34, 44, 95, 88, 59, 38, 32, 29, 87, 94, 28])\n",
      "tensor(0.4413, grad_fn=<NllLossBackward0>)\n",
      "0.441250205039978\n",
      "step 72, loss 0.441250 (0.011 sec/batch)\n",
      "tensor([74,  0, 24, 27,  3, 16, 79, 61,  9, 54, 96, 25, 84, 24, 34, 98, 93, 60,\n",
      "        85, 77, 94, 13, 42, 94, 75, 64, 89, 86,  7, 97, 50, 84])\n",
      "tensor(0.4452, grad_fn=<NllLossBackward0>)\n",
      "0.4452247619628906\n",
      "tensor([76, 67, 98, 57, 34, 39, 49, 51, 74, 66, 13, 34, 25, 20, 43,  7, 43, 79,\n",
      "        52, 63, 31, 11, 89, 69, 82, 55, 67, 53, 59, 10, 42, 52])\n",
      "tensor(0.6652, grad_fn=<NllLossBackward0>)\n",
      "0.6651841402053833\n",
      "step 74, loss 0.665184 (0.009 sec/batch)\n",
      "tensor([24, 72, 61, 79, 58, 86, 68, 13,  6, 72, 33, 34, 54, 11, 83, 55, 21, 58,\n",
      "        79, 29, 54, 21, 12, 11, 42, 78, 96, 10, 10, 33, 93, 79])\n",
      "tensor(0.5429, grad_fn=<NllLossBackward0>)\n",
      "0.5428816676139832\n",
      "saved a model checkpoint at step 75\n",
      "tensor([75, 40, 70, 48, 38, 40, 62, 64, 99, 78, 35, 62,  7, 32, 54, 92, 53, 68,\n",
      "         4, 36,  6, 91,  1, 37, 24,  0, 62, 66,  7, 12, 66, 79])\n",
      "tensor(0.9041, grad_fn=<NllLossBackward0>)\n",
      "0.9041028022766113\n",
      "step 76, loss 0.904103 (0.010 sec/batch)\n",
      "tensor([50, 17, 35, 67, 15, 83, 17, 52,  7, 45, 13, 74, 76, 24, 51,  4, 48, 36,\n",
      "        45, 34, 95, 45, 36, 37, 28, 66,  3, 28, 27, 13, 34, 13])\n",
      "tensor(0.5690, grad_fn=<NllLossBackward0>)\n",
      "0.5690432786941528\n",
      "tensor([30, 24, 52, 40, 81, 53, 18, 75, 61, 76, 90, 75, 91, 42, 69, 77,  4, 86,\n",
      "        71, 59, 56, 49, 14, 14, 68, 93, 38, 71, 52, 12, 48, 36])\n",
      "tensor(0.9499, grad_fn=<NllLossBackward0>)\n",
      "0.9498925805091858\n",
      "step 78, loss 0.949893 (0.011 sec/batch)\n",
      "tensor([61, 50, 40, 65, 91, 57, 50, 63, 29, 73, 21, 45, 61,  3, 55, 10, 20, 20,\n",
      "         1, 11, 78, 41, 86, 84, 67, 48,  4, 37,  3,  4, 50, 23])\n",
      "tensor(0.3563, grad_fn=<NllLossBackward0>)\n",
      "0.35631704330444336\n",
      "tensor([ 7, 30, 78, 93, 26, 44,  5, 52, 60, 61, 55, 88,  8, 61, 16, 69,  1, 25,\n",
      "        75, 82, 43,  5, 71, 93, 53, 93, 97, 19, 76, 58, 31, 16])\n",
      "tensor(0.1935, grad_fn=<NllLossBackward0>)\n",
      "0.19347187876701355\n",
      "step 80, loss 0.193472 (0.010 sec/batch)\n",
      "saved a model checkpoint at step 80\n",
      "tensor([76, 21, 69,  7, 70, 83,  1, 57, 65,  9, 69, 73, 64, 90, 10, 68, 82, 12,\n",
      "        16, 84, 73, 70, 25, 58, 61, 43, 29, 26, 80, 79, 17, 19])\n",
      "tensor(0.8235, grad_fn=<NllLossBackward0>)\n",
      "0.8234782814979553\n",
      "tensor([32, 69, 38, 19,  4, 97, 95, 86, 33,  2, 78, 83, 79, 52, 88, 44, 62, 46,\n",
      "        61, 14, 45,  4, 69,  5, 32, 71, 54, 96, 60, 34, 49, 25])\n",
      "tensor(0.3773, grad_fn=<NllLossBackward0>)\n",
      "0.37730738520622253\n",
      "step 82, loss 0.377307 (0.014 sec/batch)\n",
      "tensor([89, 16, 95, 72, 15, 82, 90, 19, 58, 72, 81, 40, 97, 50, 57, 10, 26, 13,\n",
      "        44, 79, 24,  4, 14, 52, 22, 98, 45, 69, 71, 50, 47, 53])\n",
      "tensor(0.4009, grad_fn=<NllLossBackward0>)\n",
      "0.40094029903411865\n",
      "tensor([89, 57, 76,  3, 96, 26, 56, 32, 35, 63, 29, 65, 65, 48, 40,  3, 38, 32,\n",
      "        29, 91, 92, 33, 25, 39, 15, 81,  0, 69, 36, 50, 48, 30])\n",
      "tensor(0.3895, grad_fn=<NllLossBackward0>)\n",
      "0.38945692777633667\n",
      "step 84, loss 0.389457 (0.009 sec/batch)\n",
      "tensor([60, 41, 28, 88, 20, 28,  9, 62, 36, 61,  8, 21,  4, 39, 64, 50, 70, 94,\n",
      "        69, 94, 86, 70, 41, 27, 67, 26, 35, 35, 82, 31, 41, 89])\n",
      "tensor(0.6062, grad_fn=<NllLossBackward0>)\n",
      "0.6061954498291016\n",
      "saved a model checkpoint at step 85\n",
      "tensor([49, 21, 82, 72, 51,  8, 65, 60, 41, 61, 29, 55,  2, 15, 56, 84, 55, 23,\n",
      "        36, 60, 58, 98, 41,  2,  1,  5, 33, 92, 82,  9, 26, 96])\n",
      "tensor(0.4125, grad_fn=<NllLossBackward0>)\n",
      "0.4125489890575409\n",
      "step 86, loss 0.412549 (0.011 sec/batch)\n",
      "tensor([60,  9, 36, 33, 46, 90, 55,  0, 49, 55, 26, 70, 43, 83,  2,  0, 81, 67,\n",
      "        98, 46, 76,  4,  3, 41, 45, 63, 30, 75, 56, 30, 73, 18])\n",
      "tensor(0.6859, grad_fn=<NllLossBackward0>)\n",
      "0.6859343647956848\n",
      "tensor([20, 58,  7, 71, 91, 26, 99, 84, 31, 25, 99, 45,  7, 69, 73, 57, 40, 85,\n",
      "        43, 29, 66, 36,  3, 96, 84,  9,  6, 32, 36, 58, 34, 78])\n",
      "tensor(0.1021, grad_fn=<NllLossBackward0>)\n",
      "0.1021299734711647\n",
      "step 88, loss 0.102130 (0.010 sec/batch)\n",
      "tensor([96, 15, 79, 67, 13, 22,  0, 47, 51, 68, 31, 28, 39, 83, 14, 64, 69, 24,\n",
      "        82, 24, 84, 42, 63, 16, 32, 85, 35, 15, 38, 69, 92, 62])\n",
      "tensor(0.3956, grad_fn=<NllLossBackward0>)\n",
      "0.39556974172592163\n",
      "tensor([83, 45, 81, 42, 35, 66, 88, 95, 51, 65, 50,  6, 78, 68, 54, 47, 71,  4,\n",
      "        15, 57, 95, 97, 63,  3, 49, 80, 32, 50,  5, 84, 74, 83])\n",
      "tensor(0.3328, grad_fn=<NllLossBackward0>)\n",
      "0.33276981115341187\n",
      "step 90, loss 0.332770 (0.011 sec/batch)\n",
      "saved a model checkpoint at step 90\n",
      "tensor([44, 86, 55, 93, 89, 69, 24, 97, 43, 11, 72, 69, 95, 15, 67, 65, 41,  1,\n",
      "        80, 72, 45, 11, 39, 30, 56, 89, 17, 85, 54, 62, 38,  0])\n",
      "tensor(0.2185, grad_fn=<NllLossBackward0>)\n",
      "0.21851569414138794\n",
      "tensor([18, 12, 39, 36, 85, 62, 88,  4, 66, 52, 31, 25, 22,  5, 93, 32, 34, 64,\n",
      "        94, 34, 31,  8,  2,  4, 25, 55, 56, 77, 60,  9, 21, 42])\n",
      "tensor(0.6005, grad_fn=<NllLossBackward0>)\n",
      "0.6005176901817322\n",
      "step 92, loss 0.600518 (0.009 sec/batch)\n",
      "tensor([58, 23, 64, 19, 41, 31, 91, 95, 61, 58, 19, 72, 79, 26, 53, 67, 43, 98,\n",
      "        10, 46, 80, 66, 56, 36, 55, 35, 14, 96, 23, 52, 43,  4])\n",
      "tensor(0.4413, grad_fn=<NllLossBackward0>)\n",
      "0.44126036763191223\n",
      "tensor([49,  1, 65,  4,  6, 95, 24, 70, 91, 24, 70, 33, 13, 40, 40, 65, 36, 92,\n",
      "        45,  7, 28, 96, 90, 47, 25, 70, 13, 25,  4, 98, 25,  8])\n",
      "tensor(0.5752, grad_fn=<NllLossBackward0>)\n",
      "0.575190007686615\n",
      "step 94, loss 0.575190 (0.010 sec/batch)\n",
      "tensor([74, 12, 76,  8, 46, 26, 70, 43, 53, 44, 40, 88, 64, 23, 69, 90, 72, 82,\n",
      "        87, 16, 85, 72, 76, 10, 72, 27, 11, 67, 27, 20, 57, 29])\n",
      "tensor(0.6382, grad_fn=<NllLossBackward0>)\n",
      "0.638150691986084\n",
      "saved a model checkpoint at step 95\n",
      "tensor([12, 24, 72,  5, 32, 31, 23,  3, 96, 57,  3, 90,  6, 77, 32, 78, 56, 47,\n",
      "        83, 22, 45, 17, 15, 53,  4, 52,  8, 37, 34, 26, 67, 12])\n",
      "tensor(0.2299, grad_fn=<NllLossBackward0>)\n",
      "0.22986790537834167\n",
      "step 96, loss 0.229868 (0.014 sec/batch)\n",
      "tensor([12, 99, 18, 19, 89, 93, 88,  1, 14, 62, 44,  3, 36, 53, 17, 75, 73,  4,\n",
      "        90, 38, 25, 68, 48, 58, 86, 18, 46, 50, 35, 64, 37, 94])\n",
      "tensor(0.4384, grad_fn=<NllLossBackward0>)\n",
      "0.43835723400115967\n",
      "tensor([69, 41, 14,  1, 54,  7, 35, 99, 72,  7, 26, 49, 49, 95, 84,  2, 53, 30,\n",
      "        51,  4, 31, 72, 60, 21,  8, 57, 13, 66, 15, 26, 45,  3])\n",
      "tensor(0.1445, grad_fn=<NllLossBackward0>)\n",
      "0.144505575299263\n",
      "step 98, loss 0.144506 (0.010 sec/batch)\n",
      "tensor([78,  5, 66, 45, 94, 42, 95, 85, 89, 53, 45, 43, 22, 47, 61,  5, 46, 55,\n",
      "        43, 82, 85, 84, 48, 53, 84, 43, 75, 56, 57, 14, 28, 20])\n",
      "tensor(0.3535, grad_fn=<NllLossBackward0>)\n",
      "0.35349711775779724\n",
      "tensor([36,  2, 44, 55, 64, 40, 57, 99, 45, 13, 29, 93, 26, 48, 33, 83, 47, 60,\n",
      "        95, 15, 32, 77,  2, 65, 25, 49, 15, 88, 17, 25, 62, 40])\n",
      "tensor(0.3199, grad_fn=<NllLossBackward0>)\n",
      "0.3198505938053131\n",
      "step 100, loss 0.319851 (0.011 sec/batch)\n",
      "saved a model checkpoint at step 100\n",
      "finished\n"
     ]
    }
   ],
   "source": [
    "print(\"begin training\")\n",
    "local_train_step = 0\n",
    "losses = []\n",
    "while model.global_step < max_steps:\n",
    "    global_train_step = model.global_step + 1\n",
    "    local_train_step += 1\n",
    "\n",
    "    start_time = time.time()\n",
    "\n",
    "\n",
    "    input_list, truth_list = dataloader.get_batch(\n",
    "        batch_size=batch_size\n",
    "    )  # [mod1, mod2, ...], label\n",
    "    truth_list = torch.as_tensor(\n",
    "        [int(label) for label in truth_list],  # Convert NumPy scalar arrays to Python integers\n",
    "        dtype=torch.long,\n",
    "        device=device)\n",
    "    \n",
    "    print(truth_list)\n",
    "    loss = model.train_step(\n",
    "        input_list=input_list, truth_list=truth_list\n",
    "    )\n",
    "    losses.append(loss)\n",
    "    print(loss)\n",
    "    duration = time.time() - start_time\n",
    "\n",
    "    if local_train_step % log_freq == 0:\n",
    "        print(\n",
    "            \"step %d, loss %.6f (%.3f sec/batch)\"\n",
    "            % (global_train_step, loss, duration)\n",
    "        )\n",
    "\n",
    "    if local_train_step % save_freq == 0:\n",
    "        model.save(base_path=train_path)\n",
    "        print(\"saved a model checkpoint at step %d\" % (global_train_step))\n",
    "\n",
    "# except KeyboardInterrupt:\n",
    "#     print(\"interrupted (KeyboardInterrupt)\")\n",
    "# except Exception as e:\n",
    "#     print(traceback.format_exc())\n",
    "\n",
    "# finalize\n",
    "print(\"finished\")\n"
   ]
  },
  {
   "cell_type": "code",
   "execution_count": 27,
   "metadata": {},
   "outputs": [
    {
     "data": {
      "text/plain": [
       "176.0"
      ]
     },
     "execution_count": 27,
     "metadata": {},
     "output_type": "execute_result"
    }
   ],
   "source": [
    "45056 / 256"
   ]
  },
  {
   "cell_type": "code",
   "execution_count": 28,
   "metadata": {},
   "outputs": [
    {
     "data": {
      "text/plain": [
       "False"
      ]
     },
     "execution_count": 28,
     "metadata": {},
     "output_type": "execute_result"
    }
   ],
   "source": [
    "torch.cuda.is_available()"
   ]
  },
  {
   "cell_type": "code",
   "execution_count": 29,
   "metadata": {},
   "outputs": [
    {
     "data": {
      "text/plain": [
       "[1408, 1408, 512]"
      ]
     },
     "execution_count": 29,
     "metadata": {},
     "output_type": "execute_result"
    }
   ],
   "source": [
    "input_size_list"
   ]
  },
  {
   "cell_type": "code",
   "execution_count": 30,
   "metadata": {},
   "outputs": [
    {
     "data": {
      "text/plain": [
       "16384"
      ]
     },
     "execution_count": 30,
     "metadata": {},
     "output_type": "execute_result"
    }
   ],
   "source": [
    "512 * 32"
   ]
  },
  {
   "cell_type": "code",
   "execution_count": null,
   "metadata": {},
   "outputs": [],
   "source": []
  },
  {
   "cell_type": "code",
   "execution_count": 31,
   "metadata": {},
   "outputs": [
    {
     "data": {
      "text/plain": [
       "Text(0.5, 1.0, 'EmbraceNet Loss')"
      ]
     },
     "execution_count": 31,
     "metadata": {},
     "output_type": "execute_result"
    },
    {
     "data": {
      "image/png": "[encoded data removed]",
      "text/plain": [
       "<Figure size 640x480 with 1 Axes>"
      ]
     },
     "metadata": {},
     "output_type": "display_data"
    }
   ],
   "source": [
    "import matplotlib.pyplot as plt\n",
    "from scipy.ndimage import gaussian_filter1d\n",
    "import numpy as np\n",
    "# Function to create a Gaussian kernel\n",
    "def gaussian_kernel(size, sigma=1):\n",
    "    x = np.linspace(-size // 2, size // 2, size)\n",
    "    kernel = np.exp(-x**2 / (2 * sigma**2))\n",
    "    kernel /= np.sum(kernel)\n",
    "    return kernel\n",
    "\n",
    "sigma = 5\n",
    "kernel_size = 11  # Choose an odd number\n",
    "kernel = gaussian_kernel(kernel_size, sigma)\n",
    "smoothed_vector = np.convolve(losses, kernel, mode='same')\n",
    "\n",
    "plt.plot(losses, label=\"Original loss\")\n",
    "plt.plot(smoothed_vector[5:-5], label=\"Smoothed loss\")\n",
    "plt.legend()\n",
    "plt.title(\"EmbraceNet Loss\")\n"
   ]
  }
 ],
 "metadata": {
  "kernelspec": {
   "display_name": "research_venv",
   "language": "python",
   "name": "python3"
  },
  "language_info": {
   "codemirror_mode": {
    "name": "ipython",
    "version": 3
   },
   "file_extension": ".py",
   "mimetype": "text/x-python",
   "name": "python",
   "nbconvert_exporter": "python",
   "pygments_lexer": "ipython3",
   "version": "3.8.20"
  }
 },
 "nbformat": 4,
 "nbformat_minor": 2
}
