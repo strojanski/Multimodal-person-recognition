{
 "cells": [
  {
   "cell_type": "code",
   "execution_count": 2,
   "metadata": {},
   "outputs": [],
   "source": [
    "import pandas as pd\n",
    "from sklearn.model_selection import train_test_split\n",
    "from sklearn.ensemble import RandomForestClassifier\n",
    "from sklearn.metrics import accuracy_score, f1_score"
   ]
  },
  {
   "cell_type": "code",
   "execution_count": 3,
   "metadata": {},
   "outputs": [],
   "source": [
    "def remove_duplicate_columns(df):\n",
    "    while True in df.columns.duplicated():\n",
    "        df = df.loc[:, ~df.columns.duplicated()].copy()\n",
    "    return df"
   ]
  },
  {
   "cell_type": "markdown",
   "metadata": {},
   "source": [
    "1. Load data"
   ]
  },
  {
   "cell_type": "code",
   "execution_count": 4,
   "metadata": {},
   "outputs": [],
   "source": [
    "df = pd.read_csv('data/iris_face_pairs.csv')"
   ]
  },
  {
   "cell_type": "markdown",
   "metadata": {},
   "source": [
    "2. Choose classifier"
   ]
  },
  {
   "cell_type": "code",
   "execution_count": 5,
   "metadata": {},
   "outputs": [],
   "source": [
    "from sklearn.cluster import KMeans\n",
    "from sklearn.neighbors import KNeighborsClassifier\n",
    "\n",
    "\n",
    "clf = RandomForestClassifier(n_estimators=100, random_state=42)"
   ]
  },
  {
   "cell_type": "markdown",
   "metadata": {},
   "source": [
    "3. Train and eval classifier"
   ]
  },
  {
   "cell_type": "code",
   "execution_count": 6,
   "metadata": {},
   "outputs": [
    {
     "name": "stdout",
     "output_type": "stream",
     "text": [
      "face_embeddings.csv :\n",
      "Accuracy: 0.533\n",
      "F1 Score: 0.476\n",
      "--------------------\n",
      "face_finger_pairs.csv :\n",
      "Accuracy: 0.973\n",
      "F1 Score: 0.970\n",
      "--------------------\n",
      "finger_embeddings.csv :\n",
      "Accuracy: 0.931\n",
      "F1 Score: 0.930\n",
      "--------------------\n",
      "fused_embeddings_all.csv :\n",
      "Accuracy: 1.000\n",
      "F1 Score: 0.999\n",
      "--------------------\n",
      "iris_embeddings.csv :\n",
      "Accuracy: 0.935\n",
      "F1 Score: 0.931\n",
      "--------------------\n",
      "iris_face_pairs.csv :\n",
      "Accuracy: 0.993\n",
      "F1 Score: 0.990\n",
      "--------------------\n",
      "iris_finger_pairs.csv :\n",
      "Accuracy: 1.000\n",
      "F1 Score: 1.000\n",
      "--------------------\n",
      "pca_face_99.csv :\n",
      "Accuracy: 0.533\n",
      "F1 Score: 0.476\n",
      "--------------------\n",
      "pca_finger_89.csv :\n",
      "Accuracy: 0.927\n",
      "F1 Score: 0.924\n",
      "--------------------\n",
      "pca_finger_face_pairs.csv :\n",
      "Accuracy: 0.972\n",
      "F1 Score: 0.969\n",
      "--------------------\n",
      "pca_fused_embeddings_all.csv :\n",
      "Accuracy: 1.000\n",
      "F1 Score: 1.000\n",
      "--------------------\n",
      "pca_iris_88.csv :\n",
      "Accuracy: 0.929\n",
      "F1 Score: 0.923\n",
      "--------------------\n",
      "pca_iris_face_pairs.csv :\n",
      "Accuracy: 0.989\n",
      "F1 Score: 0.986\n",
      "--------------------\n",
      "pca_iris_finger_pairs.csv :\n",
      "Accuracy: 0.999\n",
      "F1 Score: 0.999\n",
      "--------------------\n"
     ]
    }
   ],
   "source": [
    "import os\n",
    "for data in os.listdir('data/'):\n",
    "    \n",
    "    df = pd.read_csv('data/' + data)\n",
    "    X, y = df.drop('label', axis=1), df['label']\n",
    "    if type(y) == pd.DataFrame:\n",
    "        y = remove_duplicate_columns(y)\n",
    "        \n",
    "    X_train, X_test, y_train, y_test = train_test_split(X, y, test_size=0.2, random_state=42, stratify=y) \n",
    "\n",
    "    clf = KNeighborsClassifier(n_neighbors=10)\n",
    "\n",
    "    clf.fit(X_train, y_train)\n",
    "    y_pred = clf.predict(X_test)\n",
    "\n",
    "    accuracy = accuracy_score(y_test, y_pred)\n",
    "    f1 = f1_score(y_test, y_pred, average='macro')\n",
    "\n",
    "    print(data, \":\")\n",
    "    print(f\"Accuracy: {accuracy:.3f}\")\n",
    "    print(f\"F1 Score: {f1:.3f}\")\n",
    "    print(\"-\" * 20)"
   ]
  },
  {
   "cell_type": "code",
   "execution_count": null,
   "metadata": {},
   "outputs": [],
   "source": []
  },
  {
   "cell_type": "code",
   "execution_count": null,
   "metadata": {},
   "outputs": [],
   "source": []
  }
 ],
 "metadata": {
  "kernelspec": {
   "display_name": "research_venv",
   "language": "python",
   "name": "python3"
  },
  "language_info": {
   "codemirror_mode": {
    "name": "ipython",
    "version": 3
   },
   "file_extension": ".py",
   "mimetype": "text/x-python",
   "name": "python",
   "nbconvert_exporter": "python",
   "pygments_lexer": "ipython3",
   "version": "3.8.20"
  }
 },
 "nbformat": 4,
 "nbformat_minor": 2
}
